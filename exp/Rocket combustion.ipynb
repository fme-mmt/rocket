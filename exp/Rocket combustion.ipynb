{
 "cells": [
  {
   "cell_type": "code",
   "execution_count": 1,
   "metadata": {
    "collapsed": true
   },
   "outputs": [],
   "source": [
    "import numpy, scipy"
   ]
  },
  {
   "cell_type": "code",
   "execution_count": 2,
   "metadata": {
    "collapsed": false
   },
   "outputs": [],
   "source": [
    "from scipy.optimize import minimize"
   ]
  },
  {
   "cell_type": "markdown",
   "metadata": {
    "collapsed": true
   },
   "source": [
    "##$\\mathord{\\rm CO}_2$ $\\mathord{\\rm N}_2$ example"
   ]
  },
  {
   "cell_type": "code",
   "execution_count": 3,
   "metadata": {
    "collapsed": false
   },
   "outputs": [],
   "source": [
    "from math import log"
   ]
  },
  {
   "cell_type": "code",
   "execution_count": 4,
   "metadata": {
    "collapsed": true
   },
   "outputs": [],
   "source": [
    "mdCO2 = 1.0\n",
    "mdN2 = 2.5\n",
    "mmCO2 = 12 + 2 * 16\n",
    "mmN2 = 2 * 14\n",
    "pCO2 = 1.5\n",
    "pN2 = 1.0\n",
    "p = 0.7\n",
    "TCO2 = 35.0\n",
    "TN2 = 150\n",
    "\n",
    "cpN2 = 0.8485\n",
    "cpCO2 = 1.0366"
   ]
  },
  {
   "cell_type": "markdown",
   "metadata": {},
   "source": [
    "###Temperature"
   ]
  },
  {
   "cell_type": "code",
   "execution_count": 5,
   "metadata": {
    "collapsed": false
   },
   "outputs": [
    {
     "data": {
      "text/plain": [
       "3.5"
      ]
     },
     "execution_count": 5,
     "metadata": {},
     "output_type": "execute_result"
    }
   ],
   "source": [
    "md = mdCO2 + mdN2; md"
   ]
  },
  {
   "cell_type": "code",
   "execution_count": 6,
   "metadata": {
    "collapsed": false
   },
   "outputs": [
    {
     "data": {
      "text/plain": [
       "(0.2857142857142857, 0.7142857142857143)"
      ]
     },
     "execution_count": 6,
     "metadata": {},
     "output_type": "execute_result"
    }
   ],
   "source": [
    "wCO2 = mdCO2/md\n",
    "wN2 = mdN2/md\n",
    "wCO2, wN2"
   ]
  },
  {
   "cell_type": "code",
   "execution_count": 7,
   "metadata": {
    "collapsed": false
   },
   "outputs": [],
   "source": [
    "assert wCO2 + wN2 == 1"
   ]
  },
  {
   "cell_type": "code",
   "execution_count": 8,
   "metadata": {
    "collapsed": false
   },
   "outputs": [
    {
     "data": {
      "text/plain": [
       "0.9022428571428571"
      ]
     },
     "execution_count": 8,
     "metadata": {},
     "output_type": "execute_result"
    }
   ],
   "source": [
    "cp = cpCO2 * wCO2 + cpN2 * wN2; cp"
   ]
  },
  {
   "cell_type": "code",
   "execution_count": 9,
   "metadata": {
    "collapsed": false
   },
   "outputs": [
    {
     "data": {
      "text/plain": [
       "112.24994854093767"
      ]
     },
     "execution_count": 9,
     "metadata": {},
     "output_type": "execute_result"
    }
   ],
   "source": [
    "T = (cpCO2*wCO2*TCO2 + cpN2*wN2 * TN2)/cp; T"
   ]
  },
  {
   "cell_type": "markdown",
   "metadata": {},
   "source": [
    "###Entropy variation"
   ]
  },
  {
   "cell_type": "code",
   "execution_count": 10,
   "metadata": {
    "collapsed": false
   },
   "outputs": [
    {
     "data": {
      "text/plain": [
       "(0.022727272727272728, 0.08928571428571429)"
      ]
     },
     "execution_count": 10,
     "metadata": {},
     "output_type": "execute_result"
    }
   ],
   "source": [
    "nCO2 = mdCO2/mmCO2\n",
    "nN2 = mdN2/mmN2\n",
    "n = nN2 + nCO2\n",
    "nCO2, nN2"
   ]
  },
  {
   "cell_type": "code",
   "execution_count": 11,
   "metadata": {
    "collapsed": false
   },
   "outputs": [
    {
     "data": {
      "text/plain": [
       "(0.2028985507246377, 0.7971014492753624)"
      ]
     },
     "execution_count": 11,
     "metadata": {},
     "output_type": "execute_result"
    }
   ],
   "source": [
    "xCO2 = nCO2/n\n",
    "xN2 = nN2/n\n",
    "xCO2, xN2"
   ]
  },
  {
   "cell_type": "code",
   "execution_count": 12,
   "metadata": {
    "collapsed": true
   },
   "outputs": [],
   "source": [
    "assert xN2 + xCO2 == 1"
   ]
  },
  {
   "cell_type": "code",
   "execution_count": 13,
   "metadata": {
    "collapsed": false
   },
   "outputs": [
    {
     "name": "stdout",
     "output_type": "stream",
     "text": [
      "0.142028985507 0.557971014493\n"
     ]
    }
   ],
   "source": [
    "pCO22 = xCO2 * p\n",
    "pN22 = xN2 *p \n",
    "print pCO22, pN22\n",
    "R = 8.314"
   ]
  },
  {
   "cell_type": "code",
   "execution_count": 14,
   "metadata": {
    "collapsed": false
   },
   "outputs": [],
   "source": [
    "assert abs(pCO22 + pN22 - p) < 1e-7"
   ]
  },
  {
   "cell_type": "code",
   "execution_count": 15,
   "metadata": {
    "collapsed": true
   },
   "outputs": [],
   "source": [
    "toKelvin = lambda T: T + 273"
   ]
  },
  {
   "cell_type": "code",
   "execution_count": 16,
   "metadata": {
    "collapsed": false
   },
   "outputs": [
    {
     "name": "stdout",
     "output_type": "stream",
     "text": [
      "0.677384984207 0.0939248164265\n"
     ]
    },
    {
     "data": {
      "text/plain": [
       "0.9121970252733903"
      ]
     },
     "execution_count": 16,
     "metadata": {},
     "output_type": "execute_result"
    }
   ],
   "source": [
    "# T=112. a les transperències. Per què?\n",
    "dSCO2 = cpCO2 * log(toKelvin(T)/toKelvin(TCO2)) - R/mmCO2 * log(pCO22/pCO2)\n",
    "dSN2 = cpN2 * log(toKelvin(T)/toKelvin(TN2)) - R/mmN2 * log(pN22/pN2)\n",
    "print dSCO2, dSN2\n",
    "dS = mdCO2 * dSCO2 + mdN2 * dSN2; dS"
   ]
  },
  {
   "cell_type": "markdown",
   "metadata": {},
   "source": [
    "###Same temperature"
   ]
  },
  {
   "cell_type": "code",
   "execution_count": 17,
   "metadata": {
    "collapsed": false
   },
   "outputs": [
    {
     "data": {
      "text/plain": [
       "(0.8485, 0.18895454545454546)"
      ]
     },
     "execution_count": 17,
     "metadata": {},
     "output_type": "execute_result"
    }
   ],
   "source": [
    "cpN2, 8.314/44"
   ]
  },
  {
   "cell_type": "code",
   "execution_count": 18,
   "metadata": {
    "collapsed": false
   },
   "outputs": [],
   "source": [
    "from scipy import optimize"
   ]
  },
  {
   "cell_type": "code",
   "execution_count": 19,
   "metadata": {
    "collapsed": true
   },
   "outputs": [],
   "source": [
    "optimize?"
   ]
  },
  {
   "cell_type": "code",
   "execution_count": 20,
   "metadata": {
    "collapsed": true
   },
   "outputs": [],
   "source": [
    "class Species:\n",
    "    def __init__(self, **kw):\n",
    "        self.kw = kw\n",
    "        \n",
    "    def _get(self,k):\n",
    "        from numpy import NaN\n",
    "        return self.kw.get(k, NaN)\n",
    "                \n",
    "    def __getitem__(self,k):\n",
    "        return self._get(k)\n",
    "    \n",
    "    @property\n",
    "    def sum(self,k):\n",
    "        return sum(self._get(k))\n",
    "    \n",
    "    @property\n",
    "    def Rg(self):\n",
    "        return 8.314/self['mol']\n",
    "    \n",
    "    \n",
    "class Mixture:\n",
    "    def __init__(self, *sps):\n",
    "        self.species = sps\n",
    "        \n",
    "    def __getitem__(self,f):\n",
    "        from numpy import array, double\n",
    "        return array([s[f] for s in self.species], dtype=double)\n",
    "    "
   ]
  },
  {
   "cell_type": "code",
   "execution_count": 37,
   "metadata": {
    "collapsed": true
   },
   "outputs": [],
   "source": [
    "CO2 = Species(mol=14+2*16, cp=1.0366, md=1.0, p=1.5, T=35)\n",
    "N2 = Species(mol=2*14, cp=0.8485 , md=2.5, p=1, T=150)\n",
    "mix = Mixture(CO2, N2)"
   ]
  },
  {
   "cell_type": "code",
   "execution_count": 38,
   "metadata": {
    "collapsed": false
   },
   "outputs": [
    {
     "data": {
      "text/plain": [
       "array([ 0.28571429,  0.71428571])"
      ]
     },
     "execution_count": 38,
     "metadata": {},
     "output_type": "execute_result"
    }
   ],
   "source": [
    "w = mix['md']/sum(mix['md']); w"
   ]
  },
  {
   "cell_type": "code",
   "execution_count": 39,
   "metadata": {
    "collapsed": false
   },
   "outputs": [
    {
     "data": {
      "text/plain": [
       "129.83517266494607"
      ]
     },
     "execution_count": 39,
     "metadata": {},
     "output_type": "execute_result"
    }
   ],
   "source": [
    "mix['T'].dot(w)/mix['cp'].dot(w)"
   ]
  },
  {
   "cell_type": "code",
   "execution_count": 40,
   "metadata": {
    "collapsed": false
   },
   "outputs": [
    {
     "data": {
      "text/plain": [
       "112.24994854093767"
      ]
     },
     "execution_count": 40,
     "metadata": {},
     "output_type": "execute_result"
    }
   ],
   "source": [
    "w.dot(mix['cp'] * mix['T'])/w.dot(mix['cp'])"
   ]
  }
 ],
 "metadata": {
  "kernelspec": {
   "display_name": "Python 2",
   "language": "python",
   "name": "python2"
  },
  "language_info": {
   "codemirror_mode": {
    "name": "ipython",
    "version": 2
   },
   "file_extension": ".py",
   "mimetype": "text/x-python",
   "name": "python",
   "nbconvert_exporter": "python",
   "pygments_lexer": "ipython2",
   "version": "2.7.9"
  }
 },
 "nbformat": 4,
 "nbformat_minor": 0
}
